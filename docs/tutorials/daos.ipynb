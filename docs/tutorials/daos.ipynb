{
 "cells": [
  {
   "cell_type": "markdown",
   "id": "1f9e30da",
   "metadata": {},
   "source": [
    "# DAOS Filesystem with Tensorflow (Using MNIST)"
   ]
  },
  {
   "cell_type": "markdown",
   "id": "22b37505",
   "metadata": {},
   "source": [
    "## Overview\n",
    "\n",
    "This tutorial shows how to use read and write files on [DAOS Filesystem](https://docs.daos.io/) with TensorFlow, through TensorFlow IO's DAOS file system integration.\n",
    "\n",
    "A machine running DAOS natively or through a [docker emulator](https://github.com/daos-stack/daos/tree/master/utils/docker) is needed to run this tutorial and/or use the Tensorflow IO DAOS integration. The DAOS Pool and Container used for this tutorial will be created and deleted within this tutorial, where we will be training and testing a simple Neural Network on the MNIST Dataset loaded from the DAOS File System Plugin.\n",
    "\n",
    "The pool and container id or label are part of the filename uri:\n",
    "```\n",
    "dfs://<pool_id>/<cont_id>/<path>\n",
    "dfs://<pool-label>/cont-label/<path>\n",
    "```"
   ]
  },
  {
   "cell_type": "markdown",
   "id": "8a3ef6a9",
   "metadata": {},
   "source": [
    "## Setup and usage"
   ]
  },
  {
   "cell_type": "markdown",
   "id": "1ad41a1a",
   "metadata": {},
   "source": [
    "### Install required packages, and restart runtime"
   ]
  },
  {
   "cell_type": "code",
   "execution_count": 1,
   "id": "5e35916b",
   "metadata": {},
   "outputs": [
    {
     "name": "stdout",
     "output_type": "stream",
     "text": [
      "Requirement already satisfied: tensorflow-io in /usr/local/lib64/python3.6/site-packages (0.21.0)\n",
      "Requirement already satisfied: tensorflow<2.7.0,>=2.6.0 in /usr/local/lib64/python3.6/site-packages (from tensorflow-io) (2.6.2)\n",
      "Requirement already satisfied: tensorflow-io-gcs-filesystem==0.21.0 in /usr/local/lib64/python3.6/site-packages (from tensorflow-io) (0.21.0)\n",
      "Requirement already satisfied: absl-py~=0.10 in /usr/local/lib/python3.6/site-packages (from tensorflow<2.7.0,>=2.6.0->tensorflow-io) (0.15.0)\n",
      "Requirement already satisfied: wheel~=0.35 in /usr/local/lib/python3.6/site-packages (from tensorflow<2.7.0,>=2.6.0->tensorflow-io) (0.37.0)\n",
      "Requirement already satisfied: numpy~=1.19.2 in /usr/local/lib64/python3.6/site-packages (from tensorflow<2.7.0,>=2.6.0->tensorflow-io) (1.19.5)\n",
      "Requirement already satisfied: flatbuffers~=1.12.0 in /usr/local/lib/python3.6/site-packages (from tensorflow<2.7.0,>=2.6.0->tensorflow-io) (1.12)\n",
      "Requirement already satisfied: opt-einsum~=3.3.0 in /usr/local/lib/python3.6/site-packages (from tensorflow<2.7.0,>=2.6.0->tensorflow-io) (3.3.0)\n",
      "Requirement already satisfied: protobuf>=3.9.2 in /usr/local/lib64/python3.6/site-packages (from tensorflow<2.7.0,>=2.6.0->tensorflow-io) (3.19.1)\n",
      "Requirement already satisfied: typing-extensions~=3.7.4 in /usr/local/lib/python3.6/site-packages (from tensorflow<2.7.0,>=2.6.0->tensorflow-io) (3.7.4.3)\n",
      "Requirement already satisfied: gast==0.4.0 in /usr/local/lib/python3.6/site-packages (from tensorflow<2.7.0,>=2.6.0->tensorflow-io) (0.4.0)\n",
      "Requirement already satisfied: clang~=5.0 in /usr/local/lib/python3.6/site-packages (from tensorflow<2.7.0,>=2.6.0->tensorflow-io) (5.0)\n",
      "Requirement already satisfied: tensorboard<2.7,>=2.6.0 in /usr/local/lib/python3.6/site-packages (from tensorflow<2.7.0,>=2.6.0->tensorflow-io) (2.6.0)\n",
      "Requirement already satisfied: keras-preprocessing~=1.1.2 in /usr/local/lib/python3.6/site-packages (from tensorflow<2.7.0,>=2.6.0->tensorflow-io) (1.1.2)\n",
      "Requirement already satisfied: grpcio<2.0,>=1.37.0 in /usr/local/lib64/python3.6/site-packages (from tensorflow<2.7.0,>=2.6.0->tensorflow-io) (1.42.0)\n",
      "Requirement already satisfied: wrapt~=1.12.1 in /usr/local/lib64/python3.6/site-packages (from tensorflow<2.7.0,>=2.6.0->tensorflow-io) (1.12.1)\n",
      "Requirement already satisfied: termcolor~=1.1.0 in /usr/local/lib/python3.6/site-packages (from tensorflow<2.7.0,>=2.6.0->tensorflow-io) (1.1.0)\n",
      "Requirement already satisfied: google-pasta~=0.2 in /usr/local/lib/python3.6/site-packages (from tensorflow<2.7.0,>=2.6.0->tensorflow-io) (0.2.0)\n",
      "Requirement already satisfied: tensorflow-estimator<2.7,>=2.6.0 in /usr/local/lib/python3.6/site-packages (from tensorflow<2.7.0,>=2.6.0->tensorflow-io) (2.6.0)\n",
      "Requirement already satisfied: keras<2.7,>=2.6.0 in /usr/local/lib/python3.6/site-packages (from tensorflow<2.7.0,>=2.6.0->tensorflow-io) (2.6.0)\n",
      "Requirement already satisfied: six~=1.15.0 in /usr/local/lib/python3.6/site-packages (from tensorflow<2.7.0,>=2.6.0->tensorflow-io) (1.15.0)\n",
      "Requirement already satisfied: astunparse~=1.6.3 in /usr/local/lib/python3.6/site-packages (from tensorflow<2.7.0,>=2.6.0->tensorflow-io) (1.6.3)\n",
      "Requirement already satisfied: h5py~=3.1.0 in /usr/local/lib64/python3.6/site-packages (from tensorflow<2.7.0,>=2.6.0->tensorflow-io) (3.1.0)\n",
      "Requirement already satisfied: cached-property in /usr/local/lib/python3.6/site-packages (from h5py~=3.1.0->tensorflow<2.7.0,>=2.6.0->tensorflow-io) (1.5.2)\n",
      "Requirement already satisfied: google-auth<2,>=1.6.3 in /usr/local/lib/python3.6/site-packages (from tensorboard<2.7,>=2.6.0->tensorflow<2.7.0,>=2.6.0->tensorflow-io) (1.35.0)\n",
      "Requirement already satisfied: werkzeug>=0.11.15 in /usr/local/lib/python3.6/site-packages (from tensorboard<2.7,>=2.6.0->tensorflow<2.7.0,>=2.6.0->tensorflow-io) (2.0.2)\n",
      "Requirement already satisfied: tensorboard-plugin-wit>=1.6.0 in /usr/local/lib/python3.6/site-packages (from tensorboard<2.7,>=2.6.0->tensorflow<2.7.0,>=2.6.0->tensorflow-io) (1.8.0)\n",
      "Requirement already satisfied: google-auth-oauthlib<0.5,>=0.4.1 in /usr/local/lib/python3.6/site-packages (from tensorboard<2.7,>=2.6.0->tensorflow<2.7.0,>=2.6.0->tensorflow-io) (0.4.6)\n",
      "Requirement already satisfied: tensorboard-data-server<0.7.0,>=0.6.0 in /usr/local/lib/python3.6/site-packages (from tensorboard<2.7,>=2.6.0->tensorflow<2.7.0,>=2.6.0->tensorflow-io) (0.6.1)\n",
      "Requirement already satisfied: requests<3,>=2.21.0 in /usr/local/lib/python3.6/site-packages (from tensorboard<2.7,>=2.6.0->tensorflow<2.7.0,>=2.6.0->tensorflow-io) (2.26.0)\n",
      "Requirement already satisfied: setuptools>=41.0.0 in /usr/lib/python3.6/site-packages (from tensorboard<2.7,>=2.6.0->tensorflow<2.7.0,>=2.6.0->tensorflow-io) (41.6.0)\n",
      "Requirement already satisfied: markdown>=2.6.8 in /usr/local/lib/python3.6/site-packages (from tensorboard<2.7,>=2.6.0->tensorflow<2.7.0,>=2.6.0->tensorflow-io) (3.3.6)\n",
      "Requirement already satisfied: rsa<5,>=3.1.4 in /usr/local/lib/python3.6/site-packages (from google-auth<2,>=1.6.3->tensorboard<2.7,>=2.6.0->tensorflow<2.7.0,>=2.6.0->tensorflow-io) (4.8)\n",
      "Requirement already satisfied: cachetools<5.0,>=2.0.0 in /usr/local/lib/python3.6/site-packages (from google-auth<2,>=1.6.3->tensorboard<2.7,>=2.6.0->tensorflow<2.7.0,>=2.6.0->tensorflow-io) (4.2.4)\n",
      "Requirement already satisfied: pyasn1-modules>=0.2.1 in /usr/local/lib/python3.6/site-packages (from google-auth<2,>=1.6.3->tensorboard<2.7,>=2.6.0->tensorflow<2.7.0,>=2.6.0->tensorflow-io) (0.2.8)\n",
      "Requirement already satisfied: requests-oauthlib>=0.7.0 in /usr/local/lib/python3.6/site-packages (from google-auth-oauthlib<0.5,>=0.4.1->tensorboard<2.7,>=2.6.0->tensorflow<2.7.0,>=2.6.0->tensorflow-io) (1.3.0)\n",
      "Requirement already satisfied: importlib-metadata>=4.4 in /usr/local/lib/python3.6/site-packages (from markdown>=2.6.8->tensorboard<2.7,>=2.6.0->tensorflow<2.7.0,>=2.6.0->tensorflow-io) (4.8.2)\n",
      "Requirement already satisfied: idna<4,>=2.5 in /usr/local/lib/python3.6/site-packages (from requests<3,>=2.21.0->tensorboard<2.7,>=2.6.0->tensorflow<2.7.0,>=2.6.0->tensorflow-io) (3.3)\n",
      "Requirement already satisfied: urllib3<1.27,>=1.21.1 in /usr/local/lib/python3.6/site-packages (from requests<3,>=2.21.0->tensorboard<2.7,>=2.6.0->tensorflow<2.7.0,>=2.6.0->tensorflow-io) (1.26.7)\n",
      "Requirement already satisfied: certifi>=2017.4.17 in /usr/local/lib/python3.6/site-packages (from requests<3,>=2.21.0->tensorboard<2.7,>=2.6.0->tensorflow<2.7.0,>=2.6.0->tensorflow-io) (2021.10.8)\n",
      "Requirement already satisfied: charset-normalizer~=2.0.0 in /usr/local/lib/python3.6/site-packages (from requests<3,>=2.21.0->tensorboard<2.7,>=2.6.0->tensorflow<2.7.0,>=2.6.0->tensorflow-io) (2.0.8)\n",
      "Requirement already satisfied: dataclasses in /usr/local/lib/python3.6/site-packages (from werkzeug>=0.11.15->tensorboard<2.7,>=2.6.0->tensorflow<2.7.0,>=2.6.0->tensorflow-io) (0.8)\n",
      "Requirement already satisfied: zipp>=0.5 in /usr/local/lib/python3.6/site-packages (from importlib-metadata>=4.4->markdown>=2.6.8->tensorboard<2.7,>=2.6.0->tensorflow<2.7.0,>=2.6.0->tensorflow-io) (3.6.0)\n",
      "Requirement already satisfied: pyasn1<0.5.0,>=0.4.6 in /usr/local/lib/python3.6/site-packages (from pyasn1-modules>=0.2.1->google-auth<2,>=1.6.3->tensorboard<2.7,>=2.6.0->tensorflow<2.7.0,>=2.6.0->tensorflow-io) (0.4.8)\n",
      "Requirement already satisfied: oauthlib>=3.0.0 in /usr/local/lib/python3.6/site-packages (from requests-oauthlib>=0.7.0->google-auth-oauthlib<0.5,>=0.4.1->tensorboard<2.7,>=2.6.0->tensorflow<2.7.0,>=2.6.0->tensorflow-io) (3.1.1)\n",
      "\u001b[33mWARNING: Running pip as the 'root' user can result in broken permissions and conflicting behaviour with the system package manager. It is recommended to use a virtual environment instead: https://pip.pypa.io/warnings/venv\u001b[0m\n"
     ]
    }
   ],
   "source": [
    "try:\n",
    "  %tensorflow_version 2.x \n",
    "except Exception:\n",
    "  pass\n",
    "\n",
    "!pip install tensorflow-io"
   ]
  },
  {
   "cell_type": "markdown",
   "id": "bf7de300",
   "metadata": {},
   "source": [
    "### Create Pool and Container"
   ]
  },
  {
   "cell_type": "code",
   "execution_count": 2,
   "id": "79528fed",
   "metadata": {},
   "outputs": [
    {
     "name": "stdout",
     "output_type": "stream",
     "text": [
      "Creating DAOS pool with manual per-server storage allocation: 500 MB SCM, 0 B NVMe (100.00% ratio)\n",
      "Pool created with 100.00%,0.00% storage tier ratio\n",
      "--------------------------------------------------\n",
      "  UUID                 : 62d63183-47b1-4e81-84d4-ff57168ff6ba\n",
      "  Service Ranks        : 0                                   \n",
      "  Storage Ranks        : 0                                   \n",
      "  Total Size           : 500 MB                              \n",
      "  Storage tier 0 (SCM) : 500 MB (500 MB / rank)              \n",
      "  Storage tier 1 (NVMe): 0 B (0 B / rank)                    \n",
      "\n",
      "  Container UUID : d3fbd524-2572-4403-a807-03f1683f634d\n",
      "  Container Type : POSIX                               \n",
      "\n",
      "Successfully created container d3fbd524-2572-4403-a807-03f1683f634d\n"
     ]
    }
   ],
   "source": [
    "!dmg -i pool create -s 500M TEST_POOL\n",
    "!daos cont create --pool=TEST_POOL --type=POSIX TEST_CONT"
   ]
  },
  {
   "cell_type": "markdown",
   "metadata": {},
   "source": [
    "Importing the needed libraries"
   ]
  },
  {
   "cell_type": "code",
   "execution_count": 3,
   "metadata": {},
   "outputs": [],
   "source": [
    "import tensorflow as tf\n",
    "import tensorflow_io as tfio"
   ]
  },
  {
   "cell_type": "markdown",
   "metadata": {},
   "source": [
    "Initializing our dfs path"
   ]
  },
  {
   "cell_type": "code",
   "execution_count": 4,
   "metadata": {},
   "outputs": [],
   "source": [
    "dfs_url = \"dfs://TEST_POOL/TEST_CONT/\" # This the path we'll be using to load and access the dataset\n",
    "pwd = !pwd\n",
    "posix_url = pwd[0] + \"/tests/test_dfs/\""
   ]
  },
  {
   "cell_type": "markdown",
   "metadata": {},
   "source": [
    "Install Datasets"
   ]
  },
  {
   "cell_type": "code",
   "execution_count": 6,
   "metadata": {},
   "outputs": [
    {
     "name": "stdout",
     "output_type": "stream",
     "text": [
      "--2021-12-15 15:40:42--  http://yann.lecun.com/exdb/mnist/train-images-idx3-ubyte.gz\n",
      "Resolving yann.lecun.com (yann.lecun.com)... 104.21.29.36, 172.67.171.76, 2606:4700:3034::6815:1d24, ...\n",
      "Connecting to yann.lecun.com (yann.lecun.com)|104.21.29.36|:80... connected.\n",
      "HTTP request sent, awaiting response... 200 OK\n",
      "Length: 9912422 (9.5M) [application/x-gzip]\n",
      "Saving to: ‘/home/daos/daos/bs-daos-tensorflow-io/tests/test_dfs/train.gz’\n",
      "\n",
      "/home/daos/daos/bs- 100%[===================>]   9.45M  1.94MB/s    in 4.3s    \n",
      "\n",
      "2021-12-15 15:40:47 (2.18 MB/s) - ‘/home/daos/daos/bs-daos-tensorflow-io/tests/test_dfs/train.gz’ saved [9912422/9912422]\n",
      "\n",
      "--2021-12-15 15:40:47--  http://yann.lecun.com/exdb/mnist/train-labels-idx1-ubyte.gz\n",
      "Resolving yann.lecun.com (yann.lecun.com)... 104.21.29.36, 172.67.171.76, 2606:4700:3034::6815:1d24, ...\n",
      "Connecting to yann.lecun.com (yann.lecun.com)|104.21.29.36|:80... connected.\n",
      "HTTP request sent, awaiting response... 200 OK\n",
      "Length: 28881 (28K) [application/x-gzip]\n",
      "Saving to: ‘/home/daos/daos/bs-daos-tensorflow-io/tests/test_dfs/train_labels.gz’\n",
      "\n",
      "/home/daos/daos/bs- 100%[===================>]  28.20K  --.-KB/s    in 0.002s  \n",
      "\n",
      "2021-12-15 15:40:47 (17.4 MB/s) - ‘/home/daos/daos/bs-daos-tensorflow-io/tests/test_dfs/train_labels.gz’ saved [28881/28881]\n",
      "\n",
      "--2021-12-15 15:40:47--  http://yann.lecun.com/exdb/mnist/t10k-images-idx3-ubyte.gz\n",
      "Resolving yann.lecun.com (yann.lecun.com)... 172.67.171.76, 104.21.29.36, 2606:4700:3034::6815:1d24, ...\n",
      "Connecting to yann.lecun.com (yann.lecun.com)|172.67.171.76|:80... connected.\n",
      "HTTP request sent, awaiting response... 200 OK\n",
      "Length: 1648877 (1.6M) [application/x-gzip]\n",
      "Saving to: ‘/home/daos/daos/bs-daos-tensorflow-io/tests/test_dfs/test.gz’\n",
      "\n",
      "/home/daos/daos/bs- 100%[===================>]   1.57M  3.10MB/s    in 0.5s    \n",
      "\n",
      "2021-12-15 15:40:48 (3.10 MB/s) - ‘/home/daos/daos/bs-daos-tensorflow-io/tests/test_dfs/test.gz’ saved [1648877/1648877]\n",
      "\n",
      "--2021-12-15 15:40:48--  http://yann.lecun.com/exdb/mnist/t10k-labels-idx1-ubyte.gz\n",
      "Resolving yann.lecun.com (yann.lecun.com)... 104.21.29.36, 172.67.171.76, 2606:4700:3034::6815:1d24, ...\n",
      "Connecting to yann.lecun.com (yann.lecun.com)|104.21.29.36|:80... connected.\n",
      "HTTP request sent, awaiting response... 200 OK\n",
      "Length: 4542 (4.4K) [application/x-gzip]\n",
      "Saving to: ‘/home/daos/daos/bs-daos-tensorflow-io/tests/test_dfs/test_labels.gz’\n",
      "\n",
      "/home/daos/daos/bs- 100%[===================>]   4.44K  --.-KB/s    in 0s      \n",
      "\n",
      "2021-12-15 15:40:49 (13.7 MB/s) - ‘/home/daos/daos/bs-daos-tensorflow-io/tests/test_dfs/test_labels.gz’ saved [4542/4542]\n",
      "\n"
     ]
    }
   ],
   "source": [
    "!wget http://yann.lecun.com/exdb/mnist/train-images-idx3-ubyte.gz -O $(pwd)/tests/test_dfs/train.gz\n",
    "!wget http://yann.lecun.com/exdb/mnist/train-labels-idx1-ubyte.gz -O $(pwd)/tests/test_dfs/train_labels.gz\n",
    "!wget http://yann.lecun.com/exdb/mnist/t10k-images-idx3-ubyte.gz -O $(pwd)/tests/test_dfs/test.gz\n",
    "!wget http://yann.lecun.com/exdb/mnist/t10k-labels-idx1-ubyte.gz -O $(pwd)/tests/test_dfs/test_labels.gz"
   ]
  },
  {
   "cell_type": "markdown",
   "metadata": {},
   "source": [
    "Copying the Data from the POSIX Filesystem to the DAOS Filesystem under the pool and container we just created"
   ]
  },
  {
   "cell_type": "code",
   "execution_count": 7,
   "metadata": {},
   "outputs": [],
   "source": [
    "file_names = [\"train.gz\", \"test.gz\", \"train_labels.gz\", \"test_labels.gz\"]\n",
    "for file in file_names:\n",
    "  tf.io.gfile.copy(posix_url + file, dfs_url + file, True)\n",
    "    \n"
   ]
  },
  {
   "cell_type": "markdown",
   "metadata": {},
   "source": [
    "Checking Our Training Images and Training Labels Exist under the specified pool and container"
   ]
  },
  {
   "cell_type": "code",
   "execution_count": 8,
   "metadata": {},
   "outputs": [
    {
     "name": "stdout",
     "output_type": "stream",
     "text": [
      "True\n"
     ]
    }
   ],
   "source": [
    "images = dfs_url + \"train.gz\"\n",
    "labels = dfs_url + \"train_labels.gz\"\n",
    "if tf.io.gfile.exists(images) and tf.io.gfile.exists(labels):\n",
    "  print(\"True\")\n",
    "else:\n",
    "  print(\"False\")"
   ]
  },
  {
   "cell_type": "markdown",
   "metadata": {},
   "source": [
    "Loading MNIST Data from the DFS using tensorflow-io's built in MNIST loading functionality"
   ]
  },
  {
   "cell_type": "code",
   "execution_count": 9,
   "metadata": {},
   "outputs": [],
   "source": [
    "\n",
    "d_train = tfio.IODataset.from_mnist(\n",
    "    images,\n",
    "    labels\n",
    ")"
   ]
  },
  {
   "cell_type": "markdown",
   "metadata": {},
   "source": [
    "Pre-processing and Building a simple Keras Model"
   ]
  },
  {
   "cell_type": "code",
   "execution_count": 10,
   "metadata": {},
   "outputs": [],
   "source": [
    "# Shuffle the elements of the dataset.\n",
    "d_train = d_train.shuffle(buffer_size=1024)\n",
    "\n",
    "# By default image data is uint8, so convert to float32 using map().\n",
    "d_train = d_train.map(lambda x, y: (tf.image.convert_image_dtype(x, tf.float32), y))\n",
    "\n",
    "# prepare batches the data just like any other tf.data.Dataset\n",
    "d_train = d_train.batch(32)\n",
    "\n",
    "# Build the model.\n",
    "model = tf.keras.models.Sequential(\n",
    "    [\n",
    "        tf.keras.layers.Flatten(input_shape=(28, 28)),\n",
    "        tf.keras.layers.Dense(512, activation=tf.nn.relu),\n",
    "        tf.keras.layers.Dropout(0.2),\n",
    "        tf.keras.layers.Dense(10, activation=tf.nn.softmax),\n",
    "    ]\n",
    ")"
   ]
  },
  {
   "cell_type": "markdown",
   "metadata": {},
   "source": [
    "Compiling the model we just built"
   ]
  },
  {
   "cell_type": "code",
   "execution_count": 11,
   "metadata": {},
   "outputs": [],
   "source": [
    "model.compile(\n",
    "    optimizer=\"adam\", loss=\"sparse_categorical_crossentropy\", metrics=[\"accuracy\"]\n",
    ")"
   ]
  },
  {
   "cell_type": "markdown",
   "metadata": {},
   "source": [
    "And finally, training on the dataset for 5 epochs"
   ]
  },
  {
   "cell_type": "code",
   "execution_count": 12,
   "metadata": {},
   "outputs": [
    {
     "name": "stdout",
     "output_type": "stream",
     "text": [
      "Epoch 1/15\n",
      "100/100 [==============================] - 1s 2ms/step - loss: 0.6801 - accuracy: 0.8000\n",
      "Epoch 2/15\n",
      "100/100 [==============================] - 0s 2ms/step - loss: 0.3270 - accuracy: 0.9034\n",
      "Epoch 3/15\n",
      "100/100 [==============================] - 0s 2ms/step - loss: 0.3346 - accuracy: 0.9009\n",
      "Epoch 4/15\n",
      "100/100 [==============================] - 0s 2ms/step - loss: 0.2503 - accuracy: 0.9250\n",
      "Epoch 5/15\n",
      "100/100 [==============================] - 0s 3ms/step - loss: 0.2613 - accuracy: 0.9259\n",
      "Epoch 6/15\n",
      "100/100 [==============================] - 0s 3ms/step - loss: 0.2007 - accuracy: 0.9403\n",
      "Epoch 7/15\n",
      "100/100 [==============================] - 0s 3ms/step - loss: 0.2101 - accuracy: 0.9388\n",
      "Epoch 8/15\n",
      "100/100 [==============================] - 0s 2ms/step - loss: 0.1802 - accuracy: 0.9459\n",
      "Epoch 9/15\n",
      "100/100 [==============================] - 0s 2ms/step - loss: 0.1927 - accuracy: 0.9413\n",
      "Epoch 10/15\n",
      "100/100 [==============================] - 0s 2ms/step - loss: 0.1805 - accuracy: 0.9488\n",
      "Epoch 11/15\n",
      "100/100 [==============================] - 0s 2ms/step - loss: 0.1470 - accuracy: 0.9584\n",
      "Epoch 12/15\n",
      "100/100 [==============================] - 0s 2ms/step - loss: 0.1595 - accuracy: 0.9544\n",
      "Epoch 13/15\n",
      "100/100 [==============================] - 0s 2ms/step - loss: 0.1481 - accuracy: 0.9559\n",
      "Epoch 14/15\n",
      "100/100 [==============================] - 0s 2ms/step - loss: 0.1482 - accuracy: 0.9569\n",
      "Epoch 15/15\n",
      "100/100 [==============================] - 0s 3ms/step - loss: 0.1615 - accuracy: 0.9503\n"
     ]
    }
   ],
   "source": [
    "history = model.fit(d_train, epochs=15, steps_per_epoch=100)"
   ]
  },
  {
   "cell_type": "markdown",
   "metadata": {},
   "source": [
    "Plot of Loss vs Epoch during Training"
   ]
  },
  {
   "cell_type": "code",
   "execution_count": 13,
   "metadata": {},
   "outputs": [
    {
     "data": {
      "image/png": "[encoded data removed]",
      "text/plain": [
       "<Figure size 432x288 with 1 Axes>"
      ]
     },
     "metadata": {
      "needs_background": "light"
     },
     "output_type": "display_data"
    }
   ],
   "source": [
    "import matplotlib.pyplot as plt\n",
    "\n",
    "plt.plot(history.history['loss'])\n",
    "plt.title('model loss')\n",
    "plt.ylabel('loss')\n",
    "plt.xlabel('epoch')\n",
    "plt.legend(['train'], loc='upper left')\n",
    "plt.show()"
   ]
  },
  {
   "cell_type": "markdown",
   "metadata": {},
   "source": [
    "Check Test Data is available"
   ]
  },
  {
   "cell_type": "code",
   "execution_count": 14,
   "metadata": {},
   "outputs": [
    {
     "name": "stdout",
     "output_type": "stream",
     "text": [
      "True\n"
     ]
    }
   ],
   "source": [
    "test_images = dfs_url + \"test.gz\"\n",
    "test_labels = dfs_url + \"test_labels.gz\"\n",
    "if tf.io.gfile.exists(test_images) and tf.io.gfile.exists(test_labels):\n",
    "  print(\"True\")\n",
    "else:\n",
    "  print(\"False\")"
   ]
  },
  {
   "cell_type": "markdown",
   "metadata": {},
   "source": [
    "Apply same pre-processing and batching on test data"
   ]
  },
  {
   "cell_type": "code",
   "execution_count": 15,
   "metadata": {},
   "outputs": [],
   "source": [
    "d_test = tfio.IODataset.from_mnist(\n",
    "    test_images,\n",
    "    test_labels,\n",
    ")\n",
    "\n",
    "# Shuffle the elements of the dataset.\n",
    "d_test = d_test.shuffle(buffer_size=1024)\n",
    "\n",
    "# By default image data is uint8, so convert to float32 using map().\n",
    "d_test = d_test.map(lambda x, y: (tf.image.convert_image_dtype(x, tf.float32), y))\n",
    "\n",
    "# prepare batches the data just like any other tf.data.Dataset\n",
    "d_test = d_test.batch(32)"
   ]
  },
  {
   "cell_type": "markdown",
   "metadata": {},
   "source": [
    "Evaluate our model on both test and train data"
   ]
  },
  {
   "cell_type": "code",
   "execution_count": 16,
   "metadata": {},
   "outputs": [
    {
     "name": "stdout",
     "output_type": "stream",
     "text": [
      "Train: 0.966, Test: 0.961\n"
     ]
    }
   ],
   "source": [
    "_, train_acc = model.evaluate(d_train, verbose=0)\n",
    "_, test_acc = model.evaluate(d_test, verbose=0)\n",
    "print('Train: %.3f, Test: %.3f' % (train_acc, test_acc))"
   ]
  },
  {
   "cell_type": "markdown",
   "metadata": {},
   "source": [
    "Prediction Example"
   ]
  },
  {
   "cell_type": "code",
   "execution_count": 17,
   "metadata": {},
   "outputs": [
    {
     "name": "stdout",
     "output_type": "stream",
     "text": [
      "Predicted Value is 4\n"
     ]
    },
    {
     "data": {
      "image/png": "[encoded data removed]",
      "text/plain": [
       "<Figure size 432x288 with 1 Axes>"
      ]
     },
     "metadata": {
      "needs_background": "light"
     },
     "output_type": "display_data"
    }
   ],
   "source": [
    "import numpy as np\n",
    "iterator = iter(d_test)\n",
    "elem = iterator.get_next()[0][0]\n",
    "plt.imshow(elem)\n",
    "prediction = model.predict(np.array([elem]))\n",
    "result = np.where(prediction[0] == np.amax(prediction[0]))\n",
    "print(\"Predicted Value is\" ,result[0][0])"
   ]
  },
  {
   "cell_type": "markdown",
   "metadata": {},
   "source": [
    "### Cleanup"
   ]
  },
  {
   "cell_type": "code",
   "execution_count": 18,
   "metadata": {},
   "outputs": [
    {
     "name": "stdout",
     "output_type": "stream",
     "text": [
      "Pool-destroy command succeeded\n"
     ]
    }
   ],
   "source": [
    "!dmg -i pool destroy -f TEST_POOL"
   ]
  }
 ],
 "metadata": {
  "kernelspec": {
   "display_name": "Python 3 DAOS TF Environment",
   "language": "python",
   "name": "python3_my_env"
  },
  "language_info": {
   "codemirror_mode": {
    "name": "ipython",
    "version": 3
   },
   "file_extension": ".py",
   "mimetype": "text/x-python",
   "name": "python",
   "nbconvert_exporter": "python",
   "pygments_lexer": "ipython3",
   "version": "3.6.8"
  },
  "orig_nbformat": 4
 },
 "nbformat": 4,
 "nbformat_minor": 2
}
