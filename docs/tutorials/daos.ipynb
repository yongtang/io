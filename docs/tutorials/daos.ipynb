{
 "cells": [
  {
   "cell_type": "markdown",
   "id": "1f9e30da",
   "metadata": {},
   "source": [
    "# DAOS Filesystem with Tensorflow"
   ]
  },
  {
   "cell_type": "markdown",
   "id": "22b37505",
   "metadata": {},
   "source": [
    "## Overview\n",
    "\n",
    "This tutorial shows how to use read and write files on [DAOS Filesystem](https://docs.daos.io/) with TensorFlow, through TensorFlow IO's DAOS file system integration.\n",
    "\n",
    "A machine running DAOS natively or through a [docker emulator](https://github.com/daos-stack/daos/tree/master/utils/docker) is needed to run this tutorial and/or use the Tensorflow IO DAOS integration. The DAOS Pool and Container used for this tutorial will be created and deleted within this tutorial:\n",
    "\n",
    "The pool and container id are part of the filename uri:\n",
    "```\n",
    "dfs://<pool_id>/<cont_id>/<path>\n",
    "```"
   ]
  },
  {
   "cell_type": "markdown",
   "id": "8a3ef6a9",
   "metadata": {},
   "source": [
    "## Setup and usage"
   ]
  },
  {
   "cell_type": "markdown",
   "id": "1ad41a1a",
   "metadata": {},
   "source": [
    "### Install required packages, and restart runtime"
   ]
  },
  {
   "cell_type": "code",
   "execution_count": 1,
   "id": "5e35916b",
   "metadata": {},
   "outputs": [
    {
     "name": "stdout",
     "output_type": "stream",
     "text": [
      "Requirement already satisfied: tensorflow-io in /usr/local/lib64/python3.6/site-packages (0.21.0)\n",
      "Requirement already satisfied: tensorflow-io-gcs-filesystem==0.21.0 in /usr/local/lib64/python3.6/site-packages (from tensorflow-io) (0.21.0)\n",
      "Requirement already satisfied: tensorflow<2.7.0,>=2.6.0 in /usr/local/lib64/python3.6/site-packages (from tensorflow-io) (2.6.0)\n",
      "Requirement already satisfied: absl-py~=0.10 in /usr/local/lib/python3.6/site-packages (from tensorflow<2.7.0,>=2.6.0->tensorflow-io) (0.14.1)\n",
      "Requirement already satisfied: termcolor~=1.1.0 in /usr/local/lib/python3.6/site-packages (from tensorflow<2.7.0,>=2.6.0->tensorflow-io) (1.1.0)\n",
      "Requirement already satisfied: wheel~=0.35 in /usr/local/lib/python3.6/site-packages (from tensorflow<2.7.0,>=2.6.0->tensorflow-io) (0.37.0)\n",
      "Requirement already satisfied: six~=1.15.0 in /usr/local/lib/python3.6/site-packages (from tensorflow<2.7.0,>=2.6.0->tensorflow-io) (1.15.0)\n",
      "Requirement already satisfied: astunparse~=1.6.3 in /usr/local/lib/python3.6/site-packages (from tensorflow<2.7.0,>=2.6.0->tensorflow-io) (1.6.3)\n",
      "Requirement already satisfied: typing-extensions~=3.7.4 in /usr/local/lib/python3.6/site-packages (from tensorflow<2.7.0,>=2.6.0->tensorflow-io) (3.7.4.3)\n",
      "Requirement already satisfied: keras-preprocessing~=1.1.2 in /usr/local/lib/python3.6/site-packages (from tensorflow<2.7.0,>=2.6.0->tensorflow-io) (1.1.2)\n",
      "Requirement already satisfied: gast==0.4.0 in /usr/local/lib/python3.6/site-packages (from tensorflow<2.7.0,>=2.6.0->tensorflow-io) (0.4.0)\n",
      "Requirement already satisfied: tensorflow-estimator~=2.6 in /usr/local/lib/python3.6/site-packages (from tensorflow<2.7.0,>=2.6.0->tensorflow-io) (2.6.0)\n",
      "Requirement already satisfied: google-pasta~=0.2 in /usr/local/lib/python3.6/site-packages (from tensorflow<2.7.0,>=2.6.0->tensorflow-io) (0.2.0)\n",
      "Requirement already satisfied: opt-einsum~=3.3.0 in /usr/local/lib/python3.6/site-packages (from tensorflow<2.7.0,>=2.6.0->tensorflow-io) (3.3.0)\n",
      "Requirement already satisfied: clang~=5.0 in /usr/local/lib/python3.6/site-packages (from tensorflow<2.7.0,>=2.6.0->tensorflow-io) (5.0)\n",
      "Requirement already satisfied: keras~=2.6 in /usr/local/lib/python3.6/site-packages (from tensorflow<2.7.0,>=2.6.0->tensorflow-io) (2.6.0)\n",
      "Requirement already satisfied: wrapt~=1.12.1 in /usr/local/lib64/python3.6/site-packages (from tensorflow<2.7.0,>=2.6.0->tensorflow-io) (1.12.1)\n",
      "Requirement already satisfied: grpcio<2.0,>=1.37.0 in /usr/local/lib64/python3.6/site-packages (from tensorflow<2.7.0,>=2.6.0->tensorflow-io) (1.41.0)\n",
      "Requirement already satisfied: numpy~=1.19.2 in /usr/local/lib64/python3.6/site-packages (from tensorflow<2.7.0,>=2.6.0->tensorflow-io) (1.19.5)\n",
      "Requirement already satisfied: tensorboard~=2.6 in /usr/local/lib/python3.6/site-packages (from tensorflow<2.7.0,>=2.6.0->tensorflow-io) (2.6.0)\n",
      "Requirement already satisfied: protobuf>=3.9.2 in /usr/local/lib64/python3.6/site-packages (from tensorflow<2.7.0,>=2.6.0->tensorflow-io) (3.18.1)\n",
      "Requirement already satisfied: flatbuffers~=1.12.0 in /usr/local/lib/python3.6/site-packages (from tensorflow<2.7.0,>=2.6.0->tensorflow-io) (1.12)\n",
      "Requirement already satisfied: h5py~=3.1.0 in /usr/local/lib64/python3.6/site-packages (from tensorflow<2.7.0,>=2.6.0->tensorflow-io) (3.1.0)\n",
      "Requirement already satisfied: cached-property in /usr/local/lib/python3.6/site-packages (from h5py~=3.1.0->tensorflow<2.7.0,>=2.6.0->tensorflow-io) (1.5.2)\n",
      "Requirement already satisfied: markdown>=2.6.8 in /usr/local/lib/python3.6/site-packages (from tensorboard~=2.6->tensorflow<2.7.0,>=2.6.0->tensorflow-io) (3.3.4)\n",
      "Requirement already satisfied: werkzeug>=0.11.15 in /usr/local/lib/python3.6/site-packages (from tensorboard~=2.6->tensorflow<2.7.0,>=2.6.0->tensorflow-io) (2.0.2)\n",
      "Requirement already satisfied: tensorboard-data-server<0.7.0,>=0.6.0 in /usr/local/lib/python3.6/site-packages (from tensorboard~=2.6->tensorflow<2.7.0,>=2.6.0->tensorflow-io) (0.6.1)\n",
      "Requirement already satisfied: requests<3,>=2.21.0 in /usr/local/lib/python3.6/site-packages (from tensorboard~=2.6->tensorflow<2.7.0,>=2.6.0->tensorflow-io) (2.24.0)\n",
      "Requirement already satisfied: setuptools>=41.0.0 in /usr/local/lib/python3.6/site-packages (from tensorboard~=2.6->tensorflow<2.7.0,>=2.6.0->tensorflow-io) (58.2.0)\n",
      "Requirement already satisfied: tensorboard-plugin-wit>=1.6.0 in /usr/local/lib/python3.6/site-packages (from tensorboard~=2.6->tensorflow<2.7.0,>=2.6.0->tensorflow-io) (1.8.0)\n",
      "Requirement already satisfied: google-auth-oauthlib<0.5,>=0.4.1 in /usr/local/lib/python3.6/site-packages (from tensorboard~=2.6->tensorflow<2.7.0,>=2.6.0->tensorflow-io) (0.4.6)\n",
      "Requirement already satisfied: google-auth<2,>=1.6.3 in /usr/local/lib/python3.6/site-packages (from tensorboard~=2.6->tensorflow<2.7.0,>=2.6.0->tensorflow-io) (1.35.0)\n",
      "Requirement already satisfied: rsa<5,>=3.1.4 in /usr/local/lib/python3.6/site-packages (from google-auth<2,>=1.6.3->tensorboard~=2.6->tensorflow<2.7.0,>=2.6.0->tensorflow-io) (4.7.2)\n",
      "Requirement already satisfied: pyasn1-modules>=0.2.1 in /usr/local/lib/python3.6/site-packages (from google-auth<2,>=1.6.3->tensorboard~=2.6->tensorflow<2.7.0,>=2.6.0->tensorflow-io) (0.2.8)\n",
      "Requirement already satisfied: cachetools<5.0,>=2.0.0 in /usr/local/lib/python3.6/site-packages (from google-auth<2,>=1.6.3->tensorboard~=2.6->tensorflow<2.7.0,>=2.6.0->tensorflow-io) (4.2.4)\n",
      "Requirement already satisfied: requests-oauthlib>=0.7.0 in /usr/lib/python3.6/site-packages (from google-auth-oauthlib<0.5,>=0.4.1->tensorboard~=2.6->tensorflow<2.7.0,>=2.6.0->tensorflow-io) (1.0.0)\n",
      "Requirement already satisfied: importlib-metadata in /usr/local/lib/python3.6/site-packages (from markdown>=2.6.8->tensorboard~=2.6->tensorflow<2.7.0,>=2.6.0->tensorflow-io) (4.8.1)\n",
      "Requirement already satisfied: idna<3,>=2.5 in /usr/lib/python3.6/site-packages (from requests<3,>=2.21.0->tensorboard~=2.6->tensorflow<2.7.0,>=2.6.0->tensorflow-io) (2.5)\n",
      "Requirement already satisfied: certifi>=2017.4.17 in /usr/local/lib/python3.6/site-packages (from requests<3,>=2.21.0->tensorboard~=2.6->tensorflow<2.7.0,>=2.6.0->tensorflow-io) (2021.10.8)\n",
      "Requirement already satisfied: chardet<4,>=3.0.2 in /usr/lib/python3.6/site-packages (from requests<3,>=2.21.0->tensorboard~=2.6->tensorflow<2.7.0,>=2.6.0->tensorflow-io) (3.0.4)\n",
      "Requirement already satisfied: urllib3!=1.25.0,!=1.25.1,<1.26,>=1.21.1 in /usr/lib/python3.6/site-packages (from requests<3,>=2.21.0->tensorboard~=2.6->tensorflow<2.7.0,>=2.6.0->tensorflow-io) (1.24.2)\n",
      "Requirement already satisfied: dataclasses in /usr/local/lib/python3.6/site-packages (from werkzeug>=0.11.15->tensorboard~=2.6->tensorflow<2.7.0,>=2.6.0->tensorflow-io) (0.8)\n",
      "Requirement already satisfied: pyasn1<0.5.0,>=0.4.6 in /usr/local/lib/python3.6/site-packages (from pyasn1-modules>=0.2.1->google-auth<2,>=1.6.3->tensorboard~=2.6->tensorflow<2.7.0,>=2.6.0->tensorflow-io) (0.4.8)\n",
      "Requirement already satisfied: oauthlib>=0.6.2 in /usr/lib/python3.6/site-packages (from requests-oauthlib>=0.7.0->google-auth-oauthlib<0.5,>=0.4.1->tensorboard~=2.6->tensorflow<2.7.0,>=2.6.0->tensorflow-io) (2.1.0)\n",
      "Requirement already satisfied: zipp>=0.5 in /usr/local/lib/python3.6/site-packages (from importlib-metadata->markdown>=2.6.8->tensorboard~=2.6->tensorflow<2.7.0,>=2.6.0->tensorflow-io) (3.6.0)\n",
      "\u001b[33mWARNING: Running pip as the 'root' user can result in broken permissions and conflicting behaviour with the system package manager. It is recommended to use a virtual environment instead: https://pip.pypa.io/warnings/venv\u001b[0m\n"
     ]
    }
   ],
   "source": [
    "try:\n",
    "  %tensorflow_version 2.x \n",
    "except Exception:\n",
    "  pass\n",
    "\n",
    "!pip install tensorflow-io"
   ]
  },
  {
   "cell_type": "markdown",
   "id": "bf7de300",
   "metadata": {},
   "source": [
    "### Create Pool and Container"
   ]
  },
  {
   "cell_type": "code",
   "execution_count": 2,
   "id": "79528fed",
   "metadata": {},
   "outputs": [],
   "source": [
    "!dmg -i pool create -s 2G TEST_POOL\n",
    "!daos cont create --pool=TEST_POOL --type=POSIX TEST_CONT\n",
    "cont = \"TEST_CONT\"\n",
    "pool = \"TEST_POOL\""
   ]
  },
  {
   "cell_type": "markdown",
   "id": "d860192c",
   "metadata": {},
   "source": [
    "### Read and write files to DAOS with TensorFlow\n",
    "\n",
    "The following is an example of reading and writing files to DAOS with TensorFlow's API.\n",
    "\n",
    "It behaves the same way as other file systems (e.g., POSIX or GCS) in TensorFlow once `tensorflow-io` package is imported, as `tensorflow-io` will automatically register `dfs` scheme for use.\n",
    "\n",
    "The DAOS POOL ID and Container ID should be provided through `pool` and `cont` variables."
   ]
  },
  {
   "cell_type": "code",
   "execution_count": 3,
   "id": "459ab7e3",
   "metadata": {},
   "outputs": [
    {
     "name": "stdout",
     "output_type": "stream",
     "text": [
      "Name: tensorflow-io\r\n",
      "Version: 0.21.0\r\n",
      "Summary: TensorFlow IO\r\n",
      "Home-page: https://github.com/tensorflow/io\r\n",
      "Author: Google Inc.\r\n",
      "Author-email: opensource@google.com\r\n",
      "License: UNKNOWN\r\n",
      "Location: /usr/local/lib64/python3.6/site-packages\r\n",
      "Requires: tensorflow, tensorflow-io-gcs-filesystem\r\n",
      "Required-by: \r\n"
     ]
    }
   ],
   "source": [
    "import tensorflow as tf\n",
    "import tensorflow_io as tfio"
   ]
  },
  {
   "cell_type": "code",
   "execution_count": null,
   "id": "f10b9d4a",
   "metadata": {},
   "outputs": [],
   "source": [
    "base = pool + \"/\" + cont\n",
    "pathname = 'dfs://{}/dfstest'.format(base)\n",
    "tf.io.gfile.mkdir(pathname)\n",
    "\n",
    "filename = pathname + '/hello.txt'\n",
    "with tf.io.gfile.GFile(filename, mode='w') as w:\n",
    "  w.write(\"Hello, world!\")\n",
    "\n",
    "with tf.io.gfile.GFile(filename, mode='r') as r:\n",
    "  print(r.read())"
   ]
  },
  {
   "cell_type": "markdown",
   "id": "7b316950",
   "metadata": {},
   "source": [
    "### Cleanup"
   ]
  },
  {
   "cell_type": "code",
   "execution_count": null,
   "id": "2a1050d4",
   "metadata": {},
   "outputs": [],
   "source": [
    "!dmg -i pool destroy -f TEST_POOL"
   ]
  }
 ],
 "metadata": {
  "kernelspec": {
   "display_name": "Python 3",
   "language": "python",
   "name": "python3"
  },
  "language_info": {
   "codemirror_mode": {
    "name": "ipython",
    "version": 3
   },
   "file_extension": ".py",
   "mimetype": "text/x-python",
   "name": "python",
   "nbconvert_exporter": "python",
   "pygments_lexer": "ipython3",
   "version": "3.6.8"
  }
 },
 "nbformat": 4,
 "nbformat_minor": 5
}
